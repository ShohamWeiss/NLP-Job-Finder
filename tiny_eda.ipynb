{
 "cells": [
  {
   "cell_type": "code",
   "execution_count": 24,
   "metadata": {},
   "outputs": [],
   "source": [
    "import pandas as pd\n",
    "\n",
    "df = pd.read_csv(\"combined_data_2023-04-01.csv\")"
   ]
  },
  {
   "cell_type": "code",
   "execution_count": 25,
   "metadata": {},
   "outputs": [
    {
     "data": {
      "text/html": [
       "<div>\n",
       "<style scoped>\n",
       "    .dataframe tbody tr th:only-of-type {\n",
       "        vertical-align: middle;\n",
       "    }\n",
       "\n",
       "    .dataframe tbody tr th {\n",
       "        vertical-align: top;\n",
       "    }\n",
       "\n",
       "    .dataframe thead th {\n",
       "        text-align: right;\n",
       "    }\n",
       "</style>\n",
       "<table border=\"1\" class=\"dataframe\">\n",
       "  <thead>\n",
       "    <tr style=\"text-align: right;\">\n",
       "      <th></th>\n",
       "      <th>Unnamed: 0.1</th>\n",
       "      <th>job_id</th>\n",
       "      <th>job_title</th>\n",
       "      <th>location</th>\n",
       "      <th>experience</th>\n",
       "      <th>education</th>\n",
       "      <th>job_type</th>\n",
       "      <th>job_description</th>\n",
       "      <th>job_link</th>\n",
       "      <th>Unnamed: 0</th>\n",
       "    </tr>\n",
       "  </thead>\n",
       "  <tbody>\n",
       "    <tr>\n",
       "      <th>0</th>\n",
       "      <td>0</td>\n",
       "      <td>d3fe7488bead34f4</td>\n",
       "      <td>Business Analyst</td>\n",
       "      <td>Austin, TX</td>\n",
       "      <td>ENTRY_LEVEL</td>\n",
       "      <td>BACHELORS_DEGREE</td>\n",
       "      <td>FULLTIME</td>\n",
       "      <td>LIS Business Analyst (Austin, Texas) - job pos...</td>\n",
       "      <td>https://www.indeed.com/jobs?q=Business+Analyst...</td>\n",
       "      <td>0.0</td>\n",
       "    </tr>\n",
       "    <tr>\n",
       "      <th>1</th>\n",
       "      <td>1</td>\n",
       "      <td>0c788d52c2a5420e</td>\n",
       "      <td>Business Analyst</td>\n",
       "      <td>Austin, TX</td>\n",
       "      <td>ENTRY_LEVEL</td>\n",
       "      <td>BACHELORS_DEGREE</td>\n",
       "      <td>FULLTIME</td>\n",
       "      <td>Systems Operations Analyst - job post CEVA Log...</td>\n",
       "      <td>https://www.indeed.com/jobs?q=Business+Analyst...</td>\n",
       "      <td>1.0</td>\n",
       "    </tr>\n",
       "    <tr>\n",
       "      <th>2</th>\n",
       "      <td>2</td>\n",
       "      <td>ee82dee9280384d9</td>\n",
       "      <td>Business Analyst</td>\n",
       "      <td>Austin, TX</td>\n",
       "      <td>ENTRY_LEVEL</td>\n",
       "      <td>BACHELORS_DEGREE</td>\n",
       "      <td>FULLTIME</td>\n",
       "      <td>Business Intelligence Analyst - job post Hire ...</td>\n",
       "      <td>https://www.indeed.com/jobs?q=Business+Analyst...</td>\n",
       "      <td>2.0</td>\n",
       "    </tr>\n",
       "    <tr>\n",
       "      <th>3</th>\n",
       "      <td>3</td>\n",
       "      <td>8df855078f305a53</td>\n",
       "      <td>Business Analyst</td>\n",
       "      <td>Austin, TX</td>\n",
       "      <td>ENTRY_LEVEL</td>\n",
       "      <td>BACHELORS_DEGREE</td>\n",
       "      <td>FULLTIME</td>\n",
       "      <td>Business Analyst I - job post Silicon Labs Car...</td>\n",
       "      <td>https://www.indeed.com/jobs?q=Business+Analyst...</td>\n",
       "      <td>3.0</td>\n",
       "    </tr>\n",
       "    <tr>\n",
       "      <th>4</th>\n",
       "      <td>4</td>\n",
       "      <td>5a563d5d009c2306</td>\n",
       "      <td>Business Analyst</td>\n",
       "      <td>Austin, TX</td>\n",
       "      <td>ENTRY_LEVEL</td>\n",
       "      <td>BACHELORS_DEGREE</td>\n",
       "      <td>FULLTIME</td>\n",
       "      <td>Business Intelligence Analyst - job post ABRAC...</td>\n",
       "      <td>https://www.indeed.com/jobs?q=Business+Analyst...</td>\n",
       "      <td>4.0</td>\n",
       "    </tr>\n",
       "  </tbody>\n",
       "</table>\n",
       "</div>"
      ],
      "text/plain": [
       "   Unnamed: 0.1            job_id         job_title    location   experience  \\\n",
       "0             0  d3fe7488bead34f4  Business Analyst  Austin, TX  ENTRY_LEVEL   \n",
       "1             1  0c788d52c2a5420e  Business Analyst  Austin, TX  ENTRY_LEVEL   \n",
       "2             2  ee82dee9280384d9  Business Analyst  Austin, TX  ENTRY_LEVEL   \n",
       "3             3  8df855078f305a53  Business Analyst  Austin, TX  ENTRY_LEVEL   \n",
       "4             4  5a563d5d009c2306  Business Analyst  Austin, TX  ENTRY_LEVEL   \n",
       "\n",
       "          education  job_type  \\\n",
       "0  BACHELORS_DEGREE  FULLTIME   \n",
       "1  BACHELORS_DEGREE  FULLTIME   \n",
       "2  BACHELORS_DEGREE  FULLTIME   \n",
       "3  BACHELORS_DEGREE  FULLTIME   \n",
       "4  BACHELORS_DEGREE  FULLTIME   \n",
       "\n",
       "                                     job_description  \\\n",
       "0  LIS Business Analyst (Austin, Texas) - job pos...   \n",
       "1  Systems Operations Analyst - job post CEVA Log...   \n",
       "2  Business Intelligence Analyst - job post Hire ...   \n",
       "3  Business Analyst I - job post Silicon Labs Car...   \n",
       "4  Business Intelligence Analyst - job post ABRAC...   \n",
       "\n",
       "                                            job_link  Unnamed: 0  \n",
       "0  https://www.indeed.com/jobs?q=Business+Analyst...         0.0  \n",
       "1  https://www.indeed.com/jobs?q=Business+Analyst...         1.0  \n",
       "2  https://www.indeed.com/jobs?q=Business+Analyst...         2.0  \n",
       "3  https://www.indeed.com/jobs?q=Business+Analyst...         3.0  \n",
       "4  https://www.indeed.com/jobs?q=Business+Analyst...         4.0  "
      ]
     },
     "execution_count": 25,
     "metadata": {},
     "output_type": "execute_result"
    }
   ],
   "source": [
    "df.head()"
   ]
  },
  {
   "cell_type": "code",
   "execution_count": 26,
   "metadata": {},
   "outputs": [
    {
     "data": {
      "text/plain": [
       "Dallas, TX           3124\n",
       "San Francisco, CA    2931\n",
       "Chicago, IL          2052\n",
       "Austin, TX           1878\n",
       "San Diego, CA        1389\n",
       "Seattle, WA           982\n",
       "Name: location, dtype: int64"
      ]
     },
     "execution_count": 26,
     "metadata": {},
     "output_type": "execute_result"
    }
   ],
   "source": [
    "df['location'].value_counts()"
   ]
  },
  {
   "cell_type": "code",
   "execution_count": 27,
   "metadata": {},
   "outputs": [
    {
     "data": {
      "text/plain": [
       "6606"
      ]
     },
     "execution_count": 27,
     "metadata": {},
     "output_type": "execute_result"
    }
   ],
   "source": [
    "len(df['job_id'].value_counts())"
   ]
  }
 ],
 "metadata": {
  "kernelspec": {
   "display_name": ".venv",
   "language": "python",
   "name": "python3"
  },
  "language_info": {
   "codemirror_mode": {
    "name": "ipython",
    "version": 3
   },
   "file_extension": ".py",
   "mimetype": "text/x-python",
   "name": "python",
   "nbconvert_exporter": "python",
   "pygments_lexer": "ipython3",
   "version": "3.11.2"
  },
  "orig_nbformat": 4
 },
 "nbformat": 4,
 "nbformat_minor": 2
}
