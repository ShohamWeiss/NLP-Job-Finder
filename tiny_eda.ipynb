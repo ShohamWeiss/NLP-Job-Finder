{
 "cells": [
  {
   "cell_type": "code",
   "execution_count": 6,
   "metadata": {},
   "outputs": [],
   "source": [
    "import pandas as pd\n",
    "\n",
    "df = pd.read_csv(\"combined_data_2023-03-30.csv\")"
   ]
  },
  {
   "cell_type": "code",
   "execution_count": 12,
   "metadata": {},
   "outputs": [
    {
     "data": {
      "text/html": [
       "<div>\n",
       "<style scoped>\n",
       "    .dataframe tbody tr th:only-of-type {\n",
       "        vertical-align: middle;\n",
       "    }\n",
       "\n",
       "    .dataframe tbody tr th {\n",
       "        vertical-align: top;\n",
       "    }\n",
       "\n",
       "    .dataframe thead th {\n",
       "        text-align: right;\n",
       "    }\n",
       "</style>\n",
       "<table border=\"1\" class=\"dataframe\">\n",
       "  <thead>\n",
       "    <tr style=\"text-align: right;\">\n",
       "      <th></th>\n",
       "      <th>Unnamed: 0.1</th>\n",
       "      <th>job_id</th>\n",
       "      <th>job_title</th>\n",
       "      <th>location</th>\n",
       "      <th>experience</th>\n",
       "      <th>education</th>\n",
       "      <th>job_type</th>\n",
       "      <th>job_description</th>\n",
       "      <th>job_link</th>\n",
       "      <th>Unnamed: 0</th>\n",
       "    </tr>\n",
       "  </thead>\n",
       "  <tbody>\n",
       "    <tr>\n",
       "      <th>0</th>\n",
       "      <td>0</td>\n",
       "      <td>b9b2897f0e6d3beb</td>\n",
       "      <td>Machine Learning Engineer</td>\n",
       "      <td>San Francisco, CA</td>\n",
       "      <td>ENTRY_LEVEL</td>\n",
       "      <td>BACHELORS_DEGREE</td>\n",
       "      <td>fulltime</td>\n",
       "      <td>Automated Driving and Advanced Driver Assistan...</td>\n",
       "      <td>https://www.indeed.com/jobs?q=Data+Analyst&amp;l=L...</td>\n",
       "      <td>0.0</td>\n",
       "    </tr>\n",
       "    <tr>\n",
       "      <th>1</th>\n",
       "      <td>1</td>\n",
       "      <td>300cc246c6570318</td>\n",
       "      <td>Machine Learning Engineer</td>\n",
       "      <td>San Francisco, CA</td>\n",
       "      <td>ENTRY_LEVEL</td>\n",
       "      <td>BACHELORS_DEGREE</td>\n",
       "      <td>fulltime</td>\n",
       "      <td>Business analyst with EHS Background - job pos...</td>\n",
       "      <td>https://www.indeed.com/jobs?q=Data+Analyst&amp;l=L...</td>\n",
       "      <td>1.0</td>\n",
       "    </tr>\n",
       "    <tr>\n",
       "      <th>2</th>\n",
       "      <td>2</td>\n",
       "      <td>5872d2bdce803274</td>\n",
       "      <td>Machine Learning Engineer</td>\n",
       "      <td>San Francisco, CA</td>\n",
       "      <td>ENTRY_LEVEL</td>\n",
       "      <td>BACHELORS_DEGREE</td>\n",
       "      <td>fulltime</td>\n",
       "      <td>Product Quality Analyst - job post CFT Consult...</td>\n",
       "      <td>https://www.indeed.com/jobs?q=Data+Analyst&amp;l=L...</td>\n",
       "      <td>2.0</td>\n",
       "    </tr>\n",
       "    <tr>\n",
       "      <th>3</th>\n",
       "      <td>0</td>\n",
       "      <td>6375f35b765a4a75</td>\n",
       "      <td>Machine Learning Engineer</td>\n",
       "      <td>San Francisco, CA</td>\n",
       "      <td>ENTRY_LEVEL</td>\n",
       "      <td>BACHELORS_DEGREE</td>\n",
       "      <td>fulltime</td>\n",
       "      <td>Data Reporting Analyst - job post Beecan Healt...</td>\n",
       "      <td>https://www.indeed.com/jobs?q=Data+Analyst&amp;l=L...</td>\n",
       "      <td>0.0</td>\n",
       "    </tr>\n",
       "    <tr>\n",
       "      <th>4</th>\n",
       "      <td>1</td>\n",
       "      <td>6595a5fedd69766d</td>\n",
       "      <td>Machine Learning Engineer</td>\n",
       "      <td>San Francisco, CA</td>\n",
       "      <td>ENTRY_LEVEL</td>\n",
       "      <td>BACHELORS_DEGREE</td>\n",
       "      <td>fulltime</td>\n",
       "      <td>Scaled Abuse Analyst, Trust and Safety, YouTub...</td>\n",
       "      <td>https://www.indeed.com/jobs?q=Data+Analyst&amp;l=L...</td>\n",
       "      <td>1.0</td>\n",
       "    </tr>\n",
       "  </tbody>\n",
       "</table>\n",
       "</div>"
      ],
      "text/plain": [
       "   Unnamed: 0.1            job_id                  job_title  \\\n",
       "0             0  b9b2897f0e6d3beb  Machine Learning Engineer   \n",
       "1             1  300cc246c6570318  Machine Learning Engineer   \n",
       "2             2  5872d2bdce803274  Machine Learning Engineer   \n",
       "3             0  6375f35b765a4a75  Machine Learning Engineer   \n",
       "4             1  6595a5fedd69766d  Machine Learning Engineer   \n",
       "\n",
       "            location   experience         education  job_type  \\\n",
       "0  San Francisco, CA  ENTRY_LEVEL  BACHELORS_DEGREE  fulltime   \n",
       "1  San Francisco, CA  ENTRY_LEVEL  BACHELORS_DEGREE  fulltime   \n",
       "2  San Francisco, CA  ENTRY_LEVEL  BACHELORS_DEGREE  fulltime   \n",
       "3  San Francisco, CA  ENTRY_LEVEL  BACHELORS_DEGREE  fulltime   \n",
       "4  San Francisco, CA  ENTRY_LEVEL  BACHELORS_DEGREE  fulltime   \n",
       "\n",
       "                                     job_description  \\\n",
       "0  Automated Driving and Advanced Driver Assistan...   \n",
       "1  Business analyst with EHS Background - job pos...   \n",
       "2  Product Quality Analyst - job post CFT Consult...   \n",
       "3  Data Reporting Analyst - job post Beecan Healt...   \n",
       "4  Scaled Abuse Analyst, Trust and Safety, YouTub...   \n",
       "\n",
       "                                            job_link  Unnamed: 0  \n",
       "0  https://www.indeed.com/jobs?q=Data+Analyst&l=L...         0.0  \n",
       "1  https://www.indeed.com/jobs?q=Data+Analyst&l=L...         1.0  \n",
       "2  https://www.indeed.com/jobs?q=Data+Analyst&l=L...         2.0  \n",
       "3  https://www.indeed.com/jobs?q=Data+Analyst&l=L...         0.0  \n",
       "4  https://www.indeed.com/jobs?q=Data+Analyst&l=L...         1.0  "
      ]
     },
     "execution_count": 12,
     "metadata": {},
     "output_type": "execute_result"
    }
   ],
   "source": [
    "df.head()"
   ]
  },
  {
   "cell_type": "code",
   "execution_count": 11,
   "metadata": {},
   "outputs": [
    {
     "data": {
      "text/plain": [
       "Machine Learning Engineer    5992\n",
       "Name: job_title, dtype: int64"
      ]
     },
     "execution_count": 11,
     "metadata": {},
     "output_type": "execute_result"
    }
   ],
   "source": [
    "df['job_title'].value_counts()"
   ]
  },
  {
   "cell_type": "code",
   "execution_count": null,
   "metadata": {},
   "outputs": [],
   "source": []
  }
 ],
 "metadata": {
  "kernelspec": {
   "display_name": ".venv",
   "language": "python",
   "name": "python3"
  },
  "language_info": {
   "codemirror_mode": {
    "name": "ipython",
    "version": 3
   },
   "file_extension": ".py",
   "mimetype": "text/x-python",
   "name": "python",
   "nbconvert_exporter": "python",
   "pygments_lexer": "ipython3",
   "version": "3.11.2"
  },
  "orig_nbformat": 4
 },
 "nbformat": 4,
 "nbformat_minor": 2
}
